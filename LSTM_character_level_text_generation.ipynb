{
  "cells": [
    {
      "cell_type": "markdown",
      "metadata": {
        "id": "jfknaAMEg3qd"
      },
      "source": [
        "# Character-level text generation with LSTM\n",
        "\n",
        "**Author:** [fchollet](https://twitter.com/fchollet)<br>\n",
        "**Date created:** 2015/06/15<br>\n",
        "**Last modified:** 2020/04/30<br>\n",
        "**Description:** Generate text from Nietzsche's writings with a character-level LSTM."
      ]
    },
    {
      "cell_type": "markdown",
      "metadata": {
        "id": "RGfRt1s9g3q3"
      },
      "source": [
        "## Introduction\n",
        "\n",
        "This example demonstrates how to use a LSTM model to generate\n",
        "text character-by-character.\n",
        "\n",
        "At least 20 epochs are required before the generated text\n",
        "starts sounding locally coherent.\n",
        "\n",
        "It is recommended to run this script on GPU, as recurrent\n",
        "networks are quite computationally intensive.\n",
        "\n",
        "If you try this script on new data, make sure your corpus\n",
        "has at least ~100k characters. ~1M is better.\n"
      ]
    },
    {
      "cell_type": "markdown",
      "metadata": {
        "id": "9qFPzCpig3q4"
      },
      "source": [
        "## Setup\n"
      ]
    },
    {
      "cell_type": "code",
      "execution_count": 4,
      "metadata": {
        "id": "7A8k9bwig3q8"
      },
      "outputs": [],
      "source": [
        "from tensorflow import keras\n",
        "from tensorflow.keras import layers\n",
        "from tensorflow.keras.callbacks import ModelCheckpoint, CSVLogger\n",
        "import numpy as np\n",
        "import random\n",
        "import io\n",
        "\n",
        "\n"
      ]
    },
    {
      "cell_type": "markdown",
      "metadata": {
        "id": "-UfFZz3Mg3q9"
      },
      "source": [
        "## Prepare the data\n"
      ]
    },
    {
      "cell_type": "code",
      "execution_count": 11,
      "metadata": {
        "colab": {
          "base_uri": "https://localhost:8080/"
        },
        "id": "PjDXI6nUg3st",
        "outputId": "93d3e898-13e5-4557-df4f-00004e119148"
      },
      "outputs": [
        {
          "output_type": "stream",
          "name": "stdout",
          "text": [
            "Corpus length: 76787\n",
            "Total chars: 6\n",
            "Number of sequences: 25593\n"
          ]
        },
        {
          "output_type": "stream",
          "name": "stderr",
          "text": [
            "<ipython-input-11-f473aaf02d6b>:21: DeprecationWarning: `np.bool` is a deprecated alias for the builtin `bool`. To silence this warning, use `bool` by itself. Doing this will not modify any behavior and is safe. If you specifically wanted the numpy scalar type, use `np.bool_` here.\n",
            "Deprecated in NumPy 1.20; for more details and guidance: https://numpy.org/devdocs/release/1.20.0-notes.html#deprecations\n",
            "  x = np.zeros((len(sentences), maxlen, len(chars)), dtype=np.bool)\n",
            "<ipython-input-11-f473aaf02d6b>:22: DeprecationWarning: `np.bool` is a deprecated alias for the builtin `bool`. To silence this warning, use `bool` by itself. Doing this will not modify any behavior and is safe. If you specifically wanted the numpy scalar type, use `np.bool_` here.\n",
            "Deprecated in NumPy 1.20; for more details and guidance: https://numpy.org/devdocs/release/1.20.0-notes.html#deprecations\n",
            "  y = np.zeros((len(sentences), len(chars)), dtype=np.bool)\n"
          ]
        }
      ],
      "source": [
        "\n",
        "with io.open(\"/content/hello.txt\", encoding=\"utf-8\") as f:\n",
        "    text = f.read().lower()\n",
        "text = text.replace(\"\\n\", \" \")  # We remove newlines chars for nicer display\n",
        "print(\"Corpus length:\", len(text))\n",
        "\n",
        "chars = sorted(list(set(text)))\n",
        "print(\"Total chars:\", len(chars))\n",
        "char_indices = dict((c, i) for i, c in enumerate(chars))\n",
        "indices_char = dict((i, c) for i, c in enumerate(chars))\n",
        "\n",
        "# cut the text in semi-redundant sequences of maxlen characters\n",
        "maxlen = 10\n",
        "step = 3\n",
        "sentences = []\n",
        "next_chars = []\n",
        "for i in range(0, len(text) - maxlen, step):\n",
        "    sentences.append(text[i : i + maxlen])\n",
        "    next_chars.append(text[i + maxlen])\n",
        "print(\"Number of sequences:\", len(sentences))\n",
        "\n",
        "x = np.zeros((len(sentences), maxlen, len(chars)), dtype=np.bool)\n",
        "y = np.zeros((len(sentences), len(chars)), dtype=np.bool)\n",
        "for i, sentence in enumerate(sentences):\n",
        "    for t, char in enumerate(sentence):\n",
        "        x[i, t, char_indices[char]] = 1\n",
        "    y[i, char_indices[next_chars[i]]] = 1\n",
        "\n"
      ]
    },
    {
      "cell_type": "markdown",
      "metadata": {
        "id": "DCwgfdVJg3su"
      },
      "source": [
        "## Build the model: a single LSTM layer\n"
      ]
    },
    {
      "cell_type": "code",
      "execution_count": 12,
      "metadata": {
        "id": "LBujVWtcg3sw"
      },
      "outputs": [],
      "source": [
        "model = keras.Sequential(\n",
        "    [\n",
        "        keras.Input(shape=(maxlen, len(chars))),\n",
        "        layers.LSTM(128),\n",
        "        layers.Dense(len(chars), activation=\"softmax\"),\n",
        "    ]\n",
        ")\n",
        "optimizer = keras.optimizers.RMSprop(learning_rate=0.01)\n",
        "checkpoint_callback = ModelCheckpoint('model_weights.h5', save_weights_only=True)\n",
        "csv_logger = CSVLogger('training_log.csv', append=True)\n",
        "model.compile(loss=\"categorical_crossentropy\", optimizer=optimizer,metrics = ['accuracy'])\n"
      ]
    },
    {
      "cell_type": "code",
      "source": [
        "num_epochs = 100\n",
        "batch_size = 200"
      ],
      "metadata": {
        "id": "4odA8sI_GKKC"
      },
      "execution_count": 14,
      "outputs": []
    },
    {
      "cell_type": "code",
      "source": [
        "model.fit(x, y,batch_size=batch_size, epochs=num_epochs, callbacks=[checkpoint_callback, csv_logger])"
      ],
      "metadata": {
        "id": "RIDV5znFZAUz",
        "outputId": "5787bcb9-8bdb-4456-c482-268641df71de",
        "colab": {
          "base_uri": "https://localhost:8080/"
        }
      },
      "execution_count": 15,
      "outputs": [
        {
          "output_type": "stream",
          "name": "stdout",
          "text": [
            "Epoch 1/100\n",
            "128/128 [==============================] - 2s 4ms/step - loss: 1.7951 - accuracy: 0.1659\n",
            "Epoch 2/100\n",
            "128/128 [==============================] - 1s 4ms/step - loss: 1.7932 - accuracy: 0.1682\n",
            "Epoch 3/100\n",
            "128/128 [==============================] - 1s 4ms/step - loss: 1.7926 - accuracy: 0.1706\n",
            "Epoch 4/100\n",
            "128/128 [==============================] - 1s 5ms/step - loss: 1.7928 - accuracy: 0.1688\n",
            "Epoch 5/100\n",
            "128/128 [==============================] - 1s 4ms/step - loss: 1.7926 - accuracy: 0.1701\n",
            "Epoch 6/100\n",
            "128/128 [==============================] - 1s 4ms/step - loss: 1.7924 - accuracy: 0.1689\n",
            "Epoch 7/100\n",
            "128/128 [==============================] - 1s 4ms/step - loss: 1.7925 - accuracy: 0.1739\n",
            "Epoch 8/100\n",
            "128/128 [==============================] - 1s 4ms/step - loss: 1.7926 - accuracy: 0.1710\n",
            "Epoch 9/100\n",
            "128/128 [==============================] - 1s 5ms/step - loss: 1.7924 - accuracy: 0.1729\n",
            "Epoch 10/100\n",
            "128/128 [==============================] - 1s 6ms/step - loss: 1.7923 - accuracy: 0.1711\n",
            "Epoch 11/100\n",
            "128/128 [==============================] - 1s 6ms/step - loss: 1.7919 - accuracy: 0.1741\n",
            "Epoch 12/100\n",
            "128/128 [==============================] - 1s 4ms/step - loss: 1.7920 - accuracy: 0.1740\n",
            "Epoch 13/100\n",
            "128/128 [==============================] - 1s 4ms/step - loss: 1.7920 - accuracy: 0.1727\n",
            "Epoch 14/100\n",
            "128/128 [==============================] - 1s 4ms/step - loss: 1.7918 - accuracy: 0.1740\n",
            "Epoch 15/100\n",
            "128/128 [==============================] - 1s 4ms/step - loss: 1.7920 - accuracy: 0.1726\n",
            "Epoch 16/100\n",
            "128/128 [==============================] - 1s 5ms/step - loss: 1.7917 - accuracy: 0.1760\n",
            "Epoch 17/100\n",
            "128/128 [==============================] - 1s 4ms/step - loss: 1.7919 - accuracy: 0.1718\n",
            "Epoch 18/100\n",
            "128/128 [==============================] - 1s 4ms/step - loss: 1.7916 - accuracy: 0.1731\n",
            "Epoch 19/100\n",
            "128/128 [==============================] - 1s 4ms/step - loss: 1.7915 - accuracy: 0.1759\n",
            "Epoch 20/100\n",
            "128/128 [==============================] - 1s 4ms/step - loss: 1.7913 - accuracy: 0.1762\n",
            "Epoch 21/100\n",
            "128/128 [==============================] - 1s 4ms/step - loss: 1.7910 - accuracy: 0.1755\n",
            "Epoch 22/100\n",
            "128/128 [==============================] - 1s 4ms/step - loss: 1.7913 - accuracy: 0.1766\n",
            "Epoch 23/100\n",
            "128/128 [==============================] - 1s 4ms/step - loss: 1.7909 - accuracy: 0.1782\n",
            "Epoch 24/100\n",
            "128/128 [==============================] - 1s 4ms/step - loss: 1.7908 - accuracy: 0.1804\n",
            "Epoch 25/100\n",
            "128/128 [==============================] - 1s 4ms/step - loss: 1.7906 - accuracy: 0.1851\n",
            "Epoch 26/100\n",
            "128/128 [==============================] - 1s 4ms/step - loss: 1.7905 - accuracy: 0.1788\n",
            "Epoch 27/100\n",
            "128/128 [==============================] - 1s 4ms/step - loss: 1.7906 - accuracy: 0.1806\n",
            "Epoch 28/100\n",
            "128/128 [==============================] - 1s 4ms/step - loss: 1.7903 - accuracy: 0.1826\n",
            "Epoch 29/100\n",
            "128/128 [==============================] - 1s 6ms/step - loss: 1.7900 - accuracy: 0.1822\n",
            "Epoch 30/100\n",
            "128/128 [==============================] - 1s 6ms/step - loss: 1.7899 - accuracy: 0.1832\n",
            "Epoch 31/100\n",
            "128/128 [==============================] - 1s 5ms/step - loss: 1.7897 - accuracy: 0.1810\n",
            "Epoch 32/100\n",
            "128/128 [==============================] - 1s 5ms/step - loss: 1.7896 - accuracy: 0.1877\n",
            "Epoch 33/100\n",
            "128/128 [==============================] - 1s 4ms/step - loss: 1.7895 - accuracy: 0.1856\n",
            "Epoch 34/100\n",
            "128/128 [==============================] - 1s 4ms/step - loss: 1.7893 - accuracy: 0.1840\n",
            "Epoch 35/100\n",
            "128/128 [==============================] - 1s 4ms/step - loss: 1.7890 - accuracy: 0.1871\n",
            "Epoch 36/100\n",
            "128/128 [==============================] - 1s 4ms/step - loss: 1.7888 - accuracy: 0.1877\n",
            "Epoch 37/100\n",
            "128/128 [==============================] - 1s 4ms/step - loss: 1.7886 - accuracy: 0.1883\n",
            "Epoch 38/100\n",
            "128/128 [==============================] - 1s 4ms/step - loss: 1.7882 - accuracy: 0.1860\n",
            "Epoch 39/100\n",
            "128/128 [==============================] - 1s 4ms/step - loss: 1.7883 - accuracy: 0.1904\n",
            "Epoch 40/100\n",
            "128/128 [==============================] - 1s 4ms/step - loss: 1.7879 - accuracy: 0.1917\n",
            "Epoch 41/100\n",
            "128/128 [==============================] - 1s 4ms/step - loss: 1.7877 - accuracy: 0.1891\n",
            "Epoch 42/100\n",
            "128/128 [==============================] - 1s 4ms/step - loss: 1.7875 - accuracy: 0.1874\n",
            "Epoch 43/100\n",
            "128/128 [==============================] - 1s 4ms/step - loss: 1.7871 - accuracy: 0.1908\n",
            "Epoch 44/100\n",
            "128/128 [==============================] - 1s 4ms/step - loss: 1.7867 - accuracy: 0.1942\n",
            "Epoch 45/100\n",
            "128/128 [==============================] - 1s 4ms/step - loss: 1.7863 - accuracy: 0.1922\n",
            "Epoch 46/100\n",
            "128/128 [==============================] - 1s 5ms/step - loss: 1.7858 - accuracy: 0.1952\n",
            "Epoch 47/100\n",
            "128/128 [==============================] - 1s 4ms/step - loss: 1.7853 - accuracy: 0.1979\n",
            "Epoch 48/100\n",
            "128/128 [==============================] - 1s 5ms/step - loss: 1.7846 - accuracy: 0.1969\n",
            "Epoch 49/100\n",
            "128/128 [==============================] - 1s 6ms/step - loss: 1.7841 - accuracy: 0.1979\n",
            "Epoch 50/100\n",
            "128/128 [==============================] - 1s 5ms/step - loss: 1.7835 - accuracy: 0.1995\n",
            "Epoch 51/100\n",
            "128/128 [==============================] - 1s 4ms/step - loss: 1.7825 - accuracy: 0.1983\n",
            "Epoch 52/100\n",
            "128/128 [==============================] - 1s 4ms/step - loss: 1.7819 - accuracy: 0.2030\n",
            "Epoch 53/100\n",
            "128/128 [==============================] - 1s 4ms/step - loss: 1.7811 - accuracy: 0.2007\n",
            "Epoch 54/100\n",
            "128/128 [==============================] - 1s 4ms/step - loss: 1.7803 - accuracy: 0.2040\n",
            "Epoch 55/100\n",
            "128/128 [==============================] - 1s 4ms/step - loss: 1.7791 - accuracy: 0.2059\n",
            "Epoch 56/100\n",
            "128/128 [==============================] - 1s 4ms/step - loss: 1.7784 - accuracy: 0.2049\n",
            "Epoch 57/100\n",
            "128/128 [==============================] - 1s 4ms/step - loss: 1.7773 - accuracy: 0.2083\n",
            "Epoch 58/100\n",
            "128/128 [==============================] - 1s 4ms/step - loss: 1.7767 - accuracy: 0.2081\n",
            "Epoch 59/100\n",
            "128/128 [==============================] - 1s 4ms/step - loss: 1.7752 - accuracy: 0.2082\n",
            "Epoch 60/100\n",
            "128/128 [==============================] - 1s 4ms/step - loss: 1.7743 - accuracy: 0.2137\n",
            "Epoch 61/100\n",
            "128/128 [==============================] - 1s 4ms/step - loss: 1.7726 - accuracy: 0.2158\n",
            "Epoch 62/100\n",
            "128/128 [==============================] - 1s 4ms/step - loss: 1.7716 - accuracy: 0.2140\n",
            "Epoch 63/100\n",
            "128/128 [==============================] - 1s 4ms/step - loss: 1.7704 - accuracy: 0.2175\n",
            "Epoch 64/100\n",
            "128/128 [==============================] - 1s 4ms/step - loss: 1.7675 - accuracy: 0.2215\n",
            "Epoch 65/100\n",
            "128/128 [==============================] - 1s 4ms/step - loss: 1.7672 - accuracy: 0.2195\n",
            "Epoch 66/100\n",
            "128/128 [==============================] - 1s 4ms/step - loss: 1.7646 - accuracy: 0.2249\n",
            "Epoch 67/100\n",
            "128/128 [==============================] - 1s 4ms/step - loss: 1.7623 - accuracy: 0.2274\n",
            "Epoch 68/100\n",
            "128/128 [==============================] - 1s 5ms/step - loss: 1.7596 - accuracy: 0.2318\n",
            "Epoch 69/100\n",
            "128/128 [==============================] - 1s 5ms/step - loss: 1.7570 - accuracy: 0.2317\n",
            "Epoch 70/100\n",
            "128/128 [==============================] - 1s 5ms/step - loss: 1.7540 - accuracy: 0.2338\n",
            "Epoch 71/100\n",
            "128/128 [==============================] - 1s 4ms/step - loss: 1.7512 - accuracy: 0.2364\n",
            "Epoch 72/100\n",
            "128/128 [==============================] - 1s 5ms/step - loss: 1.7469 - accuracy: 0.2415\n",
            "Epoch 73/100\n",
            "128/128 [==============================] - 1s 4ms/step - loss: 1.7422 - accuracy: 0.2450\n",
            "Epoch 74/100\n",
            "128/128 [==============================] - 1s 4ms/step - loss: 1.7384 - accuracy: 0.2510\n",
            "Epoch 75/100\n",
            "128/128 [==============================] - 1s 4ms/step - loss: 1.7322 - accuracy: 0.2557\n",
            "Epoch 76/100\n",
            "128/128 [==============================] - 1s 4ms/step - loss: 1.7259 - accuracy: 0.2617\n",
            "Epoch 77/100\n",
            "128/128 [==============================] - 1s 4ms/step - loss: 1.7177 - accuracy: 0.2643\n",
            "Epoch 78/100\n",
            "128/128 [==============================] - 1s 4ms/step - loss: 1.7078 - accuracy: 0.2752\n",
            "Epoch 79/100\n",
            "128/128 [==============================] - 1s 5ms/step - loss: 1.6987 - accuracy: 0.2840\n",
            "Epoch 80/100\n",
            "128/128 [==============================] - 1s 4ms/step - loss: 1.6873 - accuracy: 0.2939\n",
            "Epoch 81/100\n",
            "128/128 [==============================] - 1s 4ms/step - loss: 1.6756 - accuracy: 0.2984\n",
            "Epoch 82/100\n",
            "128/128 [==============================] - 1s 4ms/step - loss: 1.6609 - accuracy: 0.3075\n",
            "Epoch 83/100\n",
            "128/128 [==============================] - 1s 4ms/step - loss: 1.6414 - accuracy: 0.3221\n",
            "Epoch 84/100\n",
            "128/128 [==============================] - 1s 4ms/step - loss: 1.6244 - accuracy: 0.3303\n",
            "Epoch 85/100\n",
            "128/128 [==============================] - 1s 4ms/step - loss: 1.6029 - accuracy: 0.3447\n",
            "Epoch 86/100\n",
            "128/128 [==============================] - 1s 4ms/step - loss: 1.5752 - accuracy: 0.3603\n",
            "Epoch 87/100\n",
            "128/128 [==============================] - 1s 5ms/step - loss: 1.5450 - accuracy: 0.3791\n",
            "Epoch 88/100\n",
            "128/128 [==============================] - 1s 6ms/step - loss: 1.5132 - accuracy: 0.3971\n",
            "Epoch 89/100\n",
            "128/128 [==============================] - 1s 6ms/step - loss: 1.4753 - accuracy: 0.4133\n",
            "Epoch 90/100\n",
            "128/128 [==============================] - 1s 4ms/step - loss: 1.4319 - accuracy: 0.4335\n",
            "Epoch 91/100\n",
            "128/128 [==============================] - 1s 4ms/step - loss: 1.3815 - accuracy: 0.4600\n",
            "Epoch 92/100\n",
            "128/128 [==============================] - 1s 4ms/step - loss: 1.3360 - accuracy: 0.4806\n",
            "Epoch 93/100\n",
            "128/128 [==============================] - 1s 4ms/step - loss: 1.2813 - accuracy: 0.5070\n",
            "Epoch 94/100\n",
            "128/128 [==============================] - 1s 4ms/step - loss: 1.2211 - accuracy: 0.5346\n",
            "Epoch 95/100\n",
            "128/128 [==============================] - 1s 4ms/step - loss: 1.1657 - accuracy: 0.5534\n",
            "Epoch 96/100\n",
            "128/128 [==============================] - 1s 4ms/step - loss: 1.1030 - accuracy: 0.5868\n",
            "Epoch 97/100\n",
            "128/128 [==============================] - 1s 4ms/step - loss: 1.0436 - accuracy: 0.6084\n",
            "Epoch 98/100\n",
            "128/128 [==============================] - 1s 4ms/step - loss: 0.9920 - accuracy: 0.6303\n",
            "Epoch 99/100\n",
            "128/128 [==============================] - 1s 5ms/step - loss: 0.9347 - accuracy: 0.6538\n",
            "Epoch 100/100\n",
            "128/128 [==============================] - 1s 4ms/step - loss: 0.8777 - accuracy: 0.6790\n"
          ]
        },
        {
          "output_type": "execute_result",
          "data": {
            "text/plain": [
              "<keras.callbacks.History at 0x7fbbc2e4d7b0>"
            ]
          },
          "metadata": {},
          "execution_count": 15
        }
      ]
    },
    {
      "cell_type": "code",
      "source": [
        "from tensorflow.keras.callbacks import ModelCheckpoint, CSVLogger\n",
        "\n",
        "# Create a ModelCheckpoint callback to save the model weights after each epoch\n",
        "checkpoint_callback = ModelCheckpoint('model_weights.h5', save_weights_only=True)\n",
        "\n",
        "# Create a CSVLogger callback to log the loss and accuracy after each epoch\n",
        "csv_logger = CSVLogger('training_log.csv', append=True)"
      ],
      "metadata": {
        "id": "MfEwz3BPYoKZ"
      },
      "execution_count": null,
      "outputs": []
    },
    {
      "cell_type": "code",
      "source": [
        "model.fit(x, y, batch_size=batch_size, epochs=e)"
      ],
      "metadata": {
        "colab": {
          "base_uri": "https://localhost:8080/",
          "height": 850
        },
        "id": "5mIy-UpAGMRb",
        "outputId": "a283c672-cbad-40cb-a048-aebd9f4bcec8"
      },
      "execution_count": null,
      "outputs": [
        {
          "output_type": "stream",
          "name": "stdout",
          "text": [
            "Epoch 1/100\n",
            "320/320 [==============================] - 1s 4ms/step - loss: 0.8357 - accuracy: 0.6933\n",
            "Epoch 2/100\n",
            "320/320 [==============================] - 1s 4ms/step - loss: 0.8182 - accuracy: 0.6995\n",
            "Epoch 3/100\n",
            "320/320 [==============================] - 2s 5ms/step - loss: 0.8011 - accuracy: 0.7053\n",
            "Epoch 4/100\n",
            "320/320 [==============================] - 1s 4ms/step - loss: 0.7773 - accuracy: 0.7151\n",
            "Epoch 5/100\n",
            "320/320 [==============================] - 1s 4ms/step - loss: 0.7490 - accuracy: 0.7261\n",
            "Epoch 6/100\n",
            "320/320 [==============================] - 1s 4ms/step - loss: 0.7360 - accuracy: 0.7331\n",
            "Epoch 7/100\n",
            "320/320 [==============================] - 1s 4ms/step - loss: 0.7182 - accuracy: 0.7408\n",
            "Epoch 8/100\n",
            "320/320 [==============================] - 1s 4ms/step - loss: 0.7029 - accuracy: 0.7472\n",
            "Epoch 9/100\n",
            "320/320 [==============================] - 1s 4ms/step - loss: 0.6884 - accuracy: 0.7514\n",
            "Epoch 10/100\n",
            "320/320 [==============================] - 1s 4ms/step - loss: 0.6656 - accuracy: 0.7616\n",
            "Epoch 11/100\n",
            "320/320 [==============================] - 2s 5ms/step - loss: 0.6475 - accuracy: 0.7702\n",
            "Epoch 12/100\n",
            "320/320 [==============================] - 2s 5ms/step - loss: 0.6330 - accuracy: 0.7710\n",
            "Epoch 13/100\n",
            "320/320 [==============================] - 1s 4ms/step - loss: 0.6208 - accuracy: 0.7787\n",
            "Epoch 14/100\n",
            "320/320 [==============================] - 1s 4ms/step - loss: 0.6076 - accuracy: 0.7846\n",
            "Epoch 15/100\n",
            "  1/320 [..............................] - ETA: 1s - loss: 0.4707 - accuracy: 0.8500"
          ]
        },
        {
          "output_type": "error",
          "ename": "KeyboardInterrupt",
          "evalue": "ignored",
          "traceback": [
            "\u001b[0;31m---------------------------------------------------------------------------\u001b[0m",
            "\u001b[0;31mKeyboardInterrupt\u001b[0m                         Traceback (most recent call last)",
            "\u001b[0;32m<ipython-input-23-e506b55b4396>\u001b[0m in \u001b[0;36m<cell line: 1>\u001b[0;34m()\u001b[0m\n\u001b[0;32m----> 1\u001b[0;31m \u001b[0mmodel\u001b[0m\u001b[0;34m.\u001b[0m\u001b[0mfit\u001b[0m\u001b[0;34m(\u001b[0m\u001b[0mx\u001b[0m\u001b[0;34m,\u001b[0m \u001b[0my\u001b[0m\u001b[0;34m,\u001b[0m \u001b[0mbatch_size\u001b[0m\u001b[0;34m=\u001b[0m\u001b[0mbatch_size\u001b[0m\u001b[0;34m,\u001b[0m \u001b[0mepochs\u001b[0m\u001b[0;34m=\u001b[0m\u001b[0me\u001b[0m\u001b[0;34m)\u001b[0m\u001b[0;34m\u001b[0m\u001b[0;34m\u001b[0m\u001b[0m\n\u001b[0m",
            "\u001b[0;32m/usr/local/lib/python3.10/dist-packages/keras/utils/traceback_utils.py\u001b[0m in \u001b[0;36merror_handler\u001b[0;34m(*args, **kwargs)\u001b[0m\n\u001b[1;32m     63\u001b[0m         \u001b[0mfiltered_tb\u001b[0m \u001b[0;34m=\u001b[0m \u001b[0;32mNone\u001b[0m\u001b[0;34m\u001b[0m\u001b[0;34m\u001b[0m\u001b[0m\n\u001b[1;32m     64\u001b[0m         \u001b[0;32mtry\u001b[0m\u001b[0;34m:\u001b[0m\u001b[0;34m\u001b[0m\u001b[0;34m\u001b[0m\u001b[0m\n\u001b[0;32m---> 65\u001b[0;31m             \u001b[0;32mreturn\u001b[0m \u001b[0mfn\u001b[0m\u001b[0;34m(\u001b[0m\u001b[0;34m*\u001b[0m\u001b[0margs\u001b[0m\u001b[0;34m,\u001b[0m \u001b[0;34m**\u001b[0m\u001b[0mkwargs\u001b[0m\u001b[0;34m)\u001b[0m\u001b[0;34m\u001b[0m\u001b[0;34m\u001b[0m\u001b[0m\n\u001b[0m\u001b[1;32m     66\u001b[0m         \u001b[0;32mexcept\u001b[0m \u001b[0mException\u001b[0m \u001b[0;32mas\u001b[0m \u001b[0me\u001b[0m\u001b[0;34m:\u001b[0m\u001b[0;34m\u001b[0m\u001b[0;34m\u001b[0m\u001b[0m\n\u001b[1;32m     67\u001b[0m             \u001b[0mfiltered_tb\u001b[0m \u001b[0;34m=\u001b[0m \u001b[0m_process_traceback_frames\u001b[0m\u001b[0;34m(\u001b[0m\u001b[0me\u001b[0m\u001b[0;34m.\u001b[0m\u001b[0m__traceback__\u001b[0m\u001b[0;34m)\u001b[0m\u001b[0;34m\u001b[0m\u001b[0;34m\u001b[0m\u001b[0m\n",
            "\u001b[0;32m/usr/local/lib/python3.10/dist-packages/keras/engine/training.py\u001b[0m in \u001b[0;36mfit\u001b[0;34m(self, x, y, batch_size, epochs, verbose, callbacks, validation_split, validation_data, shuffle, class_weight, sample_weight, initial_epoch, steps_per_epoch, validation_steps, validation_batch_size, validation_freq, max_queue_size, workers, use_multiprocessing)\u001b[0m\n\u001b[1;32m   1674\u001b[0m                 \u001b[0mcallbacks\u001b[0m\u001b[0;34m.\u001b[0m\u001b[0mon_epoch_begin\u001b[0m\u001b[0;34m(\u001b[0m\u001b[0mepoch\u001b[0m\u001b[0;34m)\u001b[0m\u001b[0;34m\u001b[0m\u001b[0;34m\u001b[0m\u001b[0m\n\u001b[1;32m   1675\u001b[0m                 \u001b[0;32mwith\u001b[0m \u001b[0mdata_handler\u001b[0m\u001b[0;34m.\u001b[0m\u001b[0mcatch_stop_iteration\u001b[0m\u001b[0;34m(\u001b[0m\u001b[0;34m)\u001b[0m\u001b[0;34m:\u001b[0m\u001b[0;34m\u001b[0m\u001b[0;34m\u001b[0m\u001b[0m\n\u001b[0;32m-> 1676\u001b[0;31m                     \u001b[0;32mfor\u001b[0m \u001b[0mstep\u001b[0m \u001b[0;32min\u001b[0m \u001b[0mdata_handler\u001b[0m\u001b[0;34m.\u001b[0m\u001b[0msteps\u001b[0m\u001b[0;34m(\u001b[0m\u001b[0;34m)\u001b[0m\u001b[0;34m:\u001b[0m\u001b[0;34m\u001b[0m\u001b[0;34m\u001b[0m\u001b[0m\n\u001b[0m\u001b[1;32m   1677\u001b[0m                         with tf.profiler.experimental.Trace(\n\u001b[1;32m   1678\u001b[0m                             \u001b[0;34m\"train\"\u001b[0m\u001b[0;34m,\u001b[0m\u001b[0;34m\u001b[0m\u001b[0;34m\u001b[0m\u001b[0m\n",
            "\u001b[0;32m/usr/local/lib/python3.10/dist-packages/keras/engine/data_adapter.py\u001b[0m in \u001b[0;36msteps\u001b[0;34m(self)\u001b[0m\n\u001b[1;32m   1373\u001b[0m             \u001b[0;32mif\u001b[0m \u001b[0mself\u001b[0m\u001b[0;34m.\u001b[0m\u001b[0m_insufficient_data\u001b[0m\u001b[0;34m:\u001b[0m  \u001b[0;31m# Set by `catch_stop_iteration`.\u001b[0m\u001b[0;34m\u001b[0m\u001b[0;34m\u001b[0m\u001b[0m\n\u001b[1;32m   1374\u001b[0m                 \u001b[0;32mbreak\u001b[0m\u001b[0;34m\u001b[0m\u001b[0;34m\u001b[0m\u001b[0m\n\u001b[0;32m-> 1375\u001b[0;31m             \u001b[0moriginal_spe\u001b[0m \u001b[0;34m=\u001b[0m \u001b[0mself\u001b[0m\u001b[0;34m.\u001b[0m\u001b[0m_steps_per_execution\u001b[0m\u001b[0;34m.\u001b[0m\u001b[0mnumpy\u001b[0m\u001b[0;34m(\u001b[0m\u001b[0;34m)\u001b[0m\u001b[0;34m.\u001b[0m\u001b[0mitem\u001b[0m\u001b[0;34m(\u001b[0m\u001b[0;34m)\u001b[0m\u001b[0;34m\u001b[0m\u001b[0;34m\u001b[0m\u001b[0m\n\u001b[0m\u001b[1;32m   1376\u001b[0m             can_run_full_execution = (\n\u001b[1;32m   1377\u001b[0m                 \u001b[0moriginal_spe\u001b[0m \u001b[0;34m==\u001b[0m \u001b[0;36m1\u001b[0m\u001b[0;34m\u001b[0m\u001b[0;34m\u001b[0m\u001b[0m\n",
            "\u001b[0;32m/usr/local/lib/python3.10/dist-packages/tensorflow/python/ops/resource_variable_ops.py\u001b[0m in \u001b[0;36mnumpy\u001b[0;34m(self)\u001b[0m\n\u001b[1;32m    645\u001b[0m   \u001b[0;32mdef\u001b[0m \u001b[0mnumpy\u001b[0m\u001b[0;34m(\u001b[0m\u001b[0mself\u001b[0m\u001b[0;34m)\u001b[0m\u001b[0;34m:\u001b[0m\u001b[0;34m\u001b[0m\u001b[0;34m\u001b[0m\u001b[0m\n\u001b[1;32m    646\u001b[0m     \u001b[0;32mif\u001b[0m \u001b[0mcontext\u001b[0m\u001b[0;34m.\u001b[0m\u001b[0mexecuting_eagerly\u001b[0m\u001b[0;34m(\u001b[0m\u001b[0;34m)\u001b[0m\u001b[0;34m:\u001b[0m\u001b[0;34m\u001b[0m\u001b[0;34m\u001b[0m\u001b[0m\n\u001b[0;32m--> 647\u001b[0;31m       \u001b[0;32mreturn\u001b[0m \u001b[0mself\u001b[0m\u001b[0;34m.\u001b[0m\u001b[0mread_value\u001b[0m\u001b[0;34m(\u001b[0m\u001b[0;34m)\u001b[0m\u001b[0;34m.\u001b[0m\u001b[0mnumpy\u001b[0m\u001b[0;34m(\u001b[0m\u001b[0;34m)\u001b[0m\u001b[0;34m\u001b[0m\u001b[0;34m\u001b[0m\u001b[0m\n\u001b[0m\u001b[1;32m    648\u001b[0m     raise NotImplementedError(\n\u001b[1;32m    649\u001b[0m         \"numpy() is only available when eager execution is enabled.\")\n",
            "\u001b[0;32m/usr/local/lib/python3.10/dist-packages/tensorflow/python/ops/resource_variable_ops.py\u001b[0m in \u001b[0;36mread_value\u001b[0;34m(self)\u001b[0m\n\u001b[1;32m    772\u001b[0m     \"\"\"\n\u001b[1;32m    773\u001b[0m     \u001b[0;32mwith\u001b[0m \u001b[0mops\u001b[0m\u001b[0;34m.\u001b[0m\u001b[0mname_scope\u001b[0m\u001b[0;34m(\u001b[0m\u001b[0;34m\"Read\"\u001b[0m\u001b[0;34m)\u001b[0m\u001b[0;34m:\u001b[0m\u001b[0;34m\u001b[0m\u001b[0;34m\u001b[0m\u001b[0m\n\u001b[0;32m--> 774\u001b[0;31m       \u001b[0mvalue\u001b[0m \u001b[0;34m=\u001b[0m \u001b[0mself\u001b[0m\u001b[0;34m.\u001b[0m\u001b[0m_read_variable_op\u001b[0m\u001b[0;34m(\u001b[0m\u001b[0;34m)\u001b[0m\u001b[0;34m\u001b[0m\u001b[0;34m\u001b[0m\u001b[0m\n\u001b[0m\u001b[1;32m    775\u001b[0m     \u001b[0;31m# Return an identity so it can get placed on whatever device the context\u001b[0m\u001b[0;34m\u001b[0m\u001b[0;34m\u001b[0m\u001b[0m\n\u001b[1;32m    776\u001b[0m     \u001b[0;31m# specifies instead of the device where the variable is.\u001b[0m\u001b[0;34m\u001b[0m\u001b[0;34m\u001b[0m\u001b[0m\n",
            "\u001b[0;32m/usr/local/lib/python3.10/dist-packages/tensorflow/python/ops/resource_variable_ops.py\u001b[0m in \u001b[0;36m_read_variable_op\u001b[0;34m(self, no_copy)\u001b[0m\n\u001b[1;32m    751\u001b[0m           \u001b[0mresult\u001b[0m \u001b[0;34m=\u001b[0m \u001b[0mread_and_set_handle\u001b[0m\u001b[0;34m(\u001b[0m\u001b[0mno_copy\u001b[0m\u001b[0;34m)\u001b[0m\u001b[0;34m\u001b[0m\u001b[0;34m\u001b[0m\u001b[0m\n\u001b[1;32m    752\u001b[0m     \u001b[0;32melse\u001b[0m\u001b[0;34m:\u001b[0m\u001b[0;34m\u001b[0m\u001b[0;34m\u001b[0m\u001b[0m\n\u001b[0;32m--> 753\u001b[0;31m       \u001b[0mresult\u001b[0m \u001b[0;34m=\u001b[0m \u001b[0mread_and_set_handle\u001b[0m\u001b[0;34m(\u001b[0m\u001b[0mno_copy\u001b[0m\u001b[0;34m)\u001b[0m\u001b[0;34m\u001b[0m\u001b[0;34m\u001b[0m\u001b[0m\n\u001b[0m\u001b[1;32m    754\u001b[0m \u001b[0;34m\u001b[0m\u001b[0m\n\u001b[1;32m    755\u001b[0m     \u001b[0;32mif\u001b[0m \u001b[0;32mnot\u001b[0m \u001b[0mcontext\u001b[0m\u001b[0;34m.\u001b[0m\u001b[0mexecuting_eagerly\u001b[0m\u001b[0;34m(\u001b[0m\u001b[0;34m)\u001b[0m\u001b[0;34m:\u001b[0m\u001b[0;34m\u001b[0m\u001b[0;34m\u001b[0m\u001b[0m\n",
            "\u001b[0;32m/usr/local/lib/python3.10/dist-packages/tensorflow/python/ops/resource_variable_ops.py\u001b[0m in \u001b[0;36mread_and_set_handle\u001b[0;34m(no_copy)\u001b[0m\n\u001b[1;32m    741\u001b[0m       \u001b[0;32mif\u001b[0m \u001b[0mno_copy\u001b[0m \u001b[0;32mand\u001b[0m \u001b[0mforward_compat\u001b[0m\u001b[0;34m.\u001b[0m\u001b[0mforward_compatible\u001b[0m\u001b[0;34m(\u001b[0m\u001b[0;36m2022\u001b[0m\u001b[0;34m,\u001b[0m \u001b[0;36m5\u001b[0m\u001b[0;34m,\u001b[0m \u001b[0;36m3\u001b[0m\u001b[0;34m)\u001b[0m\u001b[0;34m:\u001b[0m\u001b[0;34m\u001b[0m\u001b[0;34m\u001b[0m\u001b[0m\n\u001b[1;32m    742\u001b[0m         \u001b[0mgen_resource_variable_ops\u001b[0m\u001b[0;34m.\u001b[0m\u001b[0mdisable_copy_on_read\u001b[0m\u001b[0;34m(\u001b[0m\u001b[0mself\u001b[0m\u001b[0;34m.\u001b[0m\u001b[0mhandle\u001b[0m\u001b[0;34m)\u001b[0m\u001b[0;34m\u001b[0m\u001b[0;34m\u001b[0m\u001b[0m\n\u001b[0;32m--> 743\u001b[0;31m       result = gen_resource_variable_ops.read_variable_op(\n\u001b[0m\u001b[1;32m    744\u001b[0m           self.handle, self._dtype)\n\u001b[1;32m    745\u001b[0m       \u001b[0m_maybe_set_handle_data\u001b[0m\u001b[0;34m(\u001b[0m\u001b[0mself\u001b[0m\u001b[0;34m.\u001b[0m\u001b[0m_dtype\u001b[0m\u001b[0;34m,\u001b[0m \u001b[0mself\u001b[0m\u001b[0;34m.\u001b[0m\u001b[0mhandle\u001b[0m\u001b[0;34m,\u001b[0m \u001b[0mresult\u001b[0m\u001b[0;34m)\u001b[0m\u001b[0;34m\u001b[0m\u001b[0;34m\u001b[0m\u001b[0m\n",
            "\u001b[0;32m/usr/local/lib/python3.10/dist-packages/tensorflow/python/ops/gen_resource_variable_ops.py\u001b[0m in \u001b[0;36mread_variable_op\u001b[0;34m(resource, dtype, name)\u001b[0m\n\u001b[1;32m    522\u001b[0m   \u001b[0;32mif\u001b[0m \u001b[0mtld\u001b[0m\u001b[0;34m.\u001b[0m\u001b[0mis_eager\u001b[0m\u001b[0;34m:\u001b[0m\u001b[0;34m\u001b[0m\u001b[0;34m\u001b[0m\u001b[0m\n\u001b[1;32m    523\u001b[0m     \u001b[0;32mtry\u001b[0m\u001b[0;34m:\u001b[0m\u001b[0;34m\u001b[0m\u001b[0;34m\u001b[0m\u001b[0m\n\u001b[0;32m--> 524\u001b[0;31m       _result = pywrap_tfe.TFE_Py_FastPathExecute(\n\u001b[0m\u001b[1;32m    525\u001b[0m         _ctx, \"ReadVariableOp\", name, resource, \"dtype\", dtype)\n\u001b[1;32m    526\u001b[0m       \u001b[0;32mreturn\u001b[0m \u001b[0m_result\u001b[0m\u001b[0;34m\u001b[0m\u001b[0;34m\u001b[0m\u001b[0m\n",
            "\u001b[0;31mKeyboardInterrupt\u001b[0m: "
          ]
        }
      ]
    },
    {
      "cell_type": "code",
      "source": [],
      "metadata": {
        "id": "-alaMqBkFfDO"
      },
      "execution_count": null,
      "outputs": []
    }
  ],
  "metadata": {
    "accelerator": "GPU",
    "colab": {
      "name": "lstm_character_level_text_generation",
      "provenance": []
    },
    "kernelspec": {
      "display_name": "Python 3",
      "language": "python",
      "name": "python3"
    },
    "language_info": {
      "codemirror_mode": {
        "name": "ipython",
        "version": 3
      },
      "file_extension": ".py",
      "mimetype": "text/x-python",
      "name": "python",
      "nbconvert_exporter": "python",
      "pygments_lexer": "ipython3",
      "version": "3.7.0"
    }
  },
  "nbformat": 4,
  "nbformat_minor": 0
}